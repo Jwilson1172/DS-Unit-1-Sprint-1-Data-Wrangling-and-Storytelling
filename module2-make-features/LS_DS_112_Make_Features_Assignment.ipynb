{
  "nbformat": 4,
  "nbformat_minor": 0,
  "metadata": {
    "colab": {
      "name": "LS_DS_112_Make_Features_Assignment.ipynb",
      "provenance": [],
      "collapsed_sections": [],
      "include_colab_link": true
    },
    "kernelspec": {
      "display_name": "Python 3",
      "language": "python",
      "name": "python3"
    },
    "language_info": {
      "codemirror_mode": {
        "name": "ipython",
        "version": 3
      },
      "file_extension": ".py",
      "mimetype": "text/x-python",
      "name": "python",
      "nbconvert_exporter": "python",
      "pygments_lexer": "ipython3",
      "version": "3.7.1"
    }
  },
  "cells": [
    {
      "cell_type": "markdown",
      "metadata": {
        "id": "view-in-github",
        "colab_type": "text"
      },
      "source": [
        "<a href=\"https://colab.research.google.com/github/Jwilson1172/DS-Unit-1-Sprint-1-Data-Wrangling-and-Storytelling/blob/master/module2-make-features/LS_DS_112_Make_Features_Assignment.ipynb\" target=\"_parent\"><img src=\"https://colab.research.google.com/assets/colab-badge.svg\" alt=\"Open In Colab\"/></a>"
      ]
    },
    {
      "cell_type": "markdown",
      "metadata": {
        "id": "SnDJqBLi0FYW",
        "colab_type": "text"
      },
      "source": [
        "<img align=\"left\" src=\"https://lever-client-logos.s3.amazonaws.com/864372b1-534c-480e-acd5-9711f850815c-1524247202159.png\" width=200> "
      ]
    },
    {
      "cell_type": "markdown",
      "metadata": {
        "id": "W5GjI1z5yNG4",
        "colab_type": "text"
      },
      "source": [
        "# Assignment:\n",
        "\n",
        "- Replicate the lesson code.\n",
        "\n",
        " - This means that if you haven't followed along already, type out the things that we did in class. Forcing your fingers to hit each key will help you internalize the syntax of what we're doing. Make sure you understand each line of code that you're writing, google things that you don't fully understand.\n",
        " - [Lambda Learning Method for DS - By Ryan Herr](https://docs.google.com/document/d/1ubOw9B3Hfip27hF2ZFnW3a3z9xAgrUDRReOEo-FHCVs/edit?usp=sharing)\n",
        "- Convert the `term` column from string to integer.\n",
        "- Make a column named `loan_status_is_great`. It should contain the integer 1 if `loan_status` is \"Current\" or \"Fully Paid.\" Else it should contain the integer 0.\n",
        "- Make `last_pymnt_d_month` and `last_pymnt_d_year` columns."
      ]
    },
    {
      "cell_type": "markdown",
      "metadata": {
        "id": "iyR265jkAwVg",
        "colab_type": "text"
      },
      "source": [
        "## Data Loading, Establishing a Pandas DataFrame"
      ]
    },
    {
      "cell_type": "code",
      "metadata": {
        "id": "AazB4eFwym2p",
        "colab_type": "code",
        "colab": {
          "base_uri": "https://localhost:8080/",
          "height": 289
        },
        "outputId": "61996ace-ee92-466d-c324-4aa0d3ed9f41"
      },
      "source": [
        "!wget https://resources.lendingclub.com/LoanStats_2018Q4.csv.zip"
      ],
      "execution_count": 2,
      "outputs": [
        {
          "output_type": "stream",
          "text": [
            "--2020-02-11 19:36:58--  https://resources.lendingclub.com/LoanStats_2018Q4.csv.zip\n",
            "Resolving resources.lendingclub.com (resources.lendingclub.com)... 64.48.1.20\n",
            "Connecting to resources.lendingclub.com (resources.lendingclub.com)|64.48.1.20|:443... connected.\n",
            "HTTP request sent, awaiting response... 302 Found\n",
            "Location: https://static.lendingclub.com/www/terms-of-use-violation.html?TS-request-id=7868913961544146663 [following]\n",
            "--2020-02-11 19:36:59--  https://static.lendingclub.com/www/terms-of-use-violation.html?TS-request-id=7868913961544146663\n",
            "Resolving static.lendingclub.com (static.lendingclub.com)... 99.84.233.32\n",
            "Connecting to static.lendingclub.com (static.lendingclub.com)|99.84.233.32|:443... connected.\n",
            "HTTP request sent, awaiting response... 200 OK\n",
            "Length: 15677 (15K) [text/html]\n",
            "Saving to: ‘LoanStats_2018Q4.csv.zip’\n",
            "\n",
            "LoanStats_2018Q4.cs 100%[===================>]  15.31K  --.-KB/s    in 0s      \n",
            "\n",
            "2020-02-11 19:37:00 (319 MB/s) - ‘LoanStats_2018Q4.csv.zip’ saved [15677/15677]\n",
            "\n"
          ],
          "name": "stdout"
        }
      ]
    },
    {
      "cell_type": "code",
      "metadata": {
        "id": "EZHne1TPwXkK",
        "colab_type": "code",
        "colab": {
          "base_uri": "https://localhost:8080/",
          "height": 136
        },
        "outputId": "bcff3533-78ae-49df-e204-ded0c24a74fd"
      },
      "source": [
        "!unzip -v /content/LoanStats_2018Q4.csv.zip"
      ],
      "execution_count": 5,
      "outputs": [
        {
          "output_type": "stream",
          "text": [
            "Archive:  /content/LoanStats_2018Q4.csv.zip\n",
            "  End-of-central-directory signature not found.  Either this file is not\n",
            "  a zipfile, or it constitutes one disk of a multi-part archive.  In the\n",
            "  latter case the central directory and zipfile comment will be found on\n",
            "  the last disk(s) of this archive.\n",
            "unzip:  cannot find zipfile directory in one of /content/LoanStats_2018Q4.csv.zip or\n",
            "        /content/LoanStats_2018Q4.csv.zip.zip, and cannot find /content/LoanStats_2018Q4.csv.zip.ZIP, period.\n"
          ],
          "name": "stdout"
        }
      ]
    },
    {
      "cell_type": "code",
      "metadata": {
        "id": "AmxQI2FIw4OB",
        "colab_type": "code",
        "colab": {
          "base_uri": "https://localhost:8080/",
          "height": 34
        },
        "outputId": "40c9c1d9-8155-4f18-d4ba-1491168d7906"
      },
      "source": [
        "import zipfile\n",
        "loca_dir='/content/LoanStats_2018Q4.csv.zip'\n",
        "try:\n",
        "  with zipfile.ZipFile(loca_dir) as ziped:\n",
        "    ziped.extract()\n",
        "except zipfile.BadZipfile:\n",
        "  print(f\"File at \\\"{loca_dir}\\\" is a bad zip file :( falling back to alternitive\")"
      ],
      "execution_count": 11,
      "outputs": [
        {
          "output_type": "stream",
          "text": [
            "File at \"/content/LoanStats_2018Q4.csv.zip\" is a bad zip file :( falling back to alternitive\n"
          ],
          "name": "stdout"
        }
      ]
    },
    {
      "cell_type": "code",
      "metadata": {
        "id": "hEIWnAdcyjN3",
        "colab_type": "code",
        "colab": {
          "resources": {
            "http://localhost:8080/nbextensions/google.colab/files.js": {
              "data": "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",
              "ok": true,
              "headers": [
                [
                  "content-type",
                  "application/javascript"
                ]
              ],
              "status": 200,
              "status_text": ""
            }
          },
          "base_uri": "https://localhost:8080/",
          "height": 74
        },
        "outputId": "03f6b2e7-4ec8-4df5-e631-e8ce73ee2600"
      },
      "source": [
        "# alt link that was posted during lecture of 2017Q1 LoanStats\n",
        "# this file takes a while to load\n",
        "from google.colab import files\n",
        "uploaded=files.upload()"
      ],
      "execution_count": 12,
      "outputs": [
        {
          "output_type": "display_data",
          "data": {
            "text/html": [
              "\n",
              "     <input type=\"file\" id=\"files-33e43037-56e1-4397-8aa5-31e0ce9c92d3\" name=\"files[]\" multiple disabled />\n",
              "     <output id=\"result-33e43037-56e1-4397-8aa5-31e0ce9c92d3\">\n",
              "      Upload widget is only available when the cell has been executed in the\n",
              "      current browser session. Please rerun this cell to enable.\n",
              "      </output>\n",
              "      <script src=\"/nbextensions/google.colab/files.js\"></script> "
            ],
            "text/plain": [
              "<IPython.core.display.HTML object>"
            ]
          },
          "metadata": {
            "tags": []
          }
        },
        {
          "output_type": "stream",
          "text": [
            "Saving LoanStats_2017Q1.csv to LoanStats_2017Q1.csv\n"
          ],
          "name": "stdout"
        }
      ]
    },
    {
      "cell_type": "code",
      "metadata": {
        "id": "N-tHc177zzLF",
        "colab_type": "code",
        "colab": {
          "base_uri": "https://localhost:8080/",
          "height": 71
        },
        "outputId": "22531a87-f0e8-48c9-d218-6b090a010c1c"
      },
      "source": [
        "# while thats loading im going to work on setting stuff up\n",
        "import pandas as pd\n",
        "import numpy as np\n",
        "import matplotlib.pyplot as plt\n",
        "# set my path to the .csv file for future referencing\n",
        "q1_path='/content/LoanStats_2017Q1.csv'\n",
        "# load df skipping the url at the head and the 2 lines at the footer\n",
        "df=pd.read_csv(q1_path,skiprows=1,skipfooter=2)\n"
      ],
      "execution_count": 15,
      "outputs": [
        {
          "output_type": "stream",
          "text": [
            "/usr/local/lib/python3.6/dist-packages/ipykernel_launcher.py:7: ParserWarning: Falling back to the 'python' engine because the 'c' engine does not support skipfooter; you can avoid this warning by specifying engine='python'.\n",
            "  import sys\n"
          ],
          "name": "stderr"
        }
      ]
    },
    {
      "cell_type": "markdown",
      "metadata": {
        "id": "X8w9Q0iTA71B",
        "colab_type": "text"
      },
      "source": [
        "## Data Cleaning"
      ]
    },
    {
      "cell_type": "code",
      "metadata": {
        "id": "e_UfUhRH1WEh",
        "colab_type": "code",
        "colab": {
          "base_uri": "https://localhost:8080/",
          "height": 238
        },
        "outputId": "86cd69c6-63f4-41b3-bd3f-644d08634c51"
      },
      "source": [
        "# take a basic look at the informamtion held in the df object\n",
        "print(df.shape)\n",
        "print(df.isnull().sum().sort_values())"
      ],
      "execution_count": 19,
      "outputs": [
        {
          "output_type": "stream",
          "text": [
            "(96779, 122)\n",
            "open_il_6m                                 0\n",
            "delinq_amnt                                0\n",
            "chargeoff_within_12_mths                   0\n",
            "avg_cur_bal                                0\n",
            "acc_open_past_24mths                       0\n",
            "                                       ...  \n",
            "sec_app_mths_since_last_major_derog    96423\n",
            "url                                    96779\n",
            "member_id                              96779\n",
            "desc                                   96779\n",
            "id                                     96779\n",
            "Length: 122, dtype: int64\n"
          ],
          "name": "stdout"
        }
      ]
    },
    {
      "cell_type": "code",
      "metadata": {
        "id": "apFwqVQZ2B23",
        "colab_type": "code",
        "colab": {}
      },
      "source": [
        "#drop fully nan columns because they are taking up space and cant be used\n",
        "df=df.drop(['id','desc','member_id','url'],axis=1)"
      ],
      "execution_count": 0,
      "outputs": []
    },
    {
      "cell_type": "code",
      "metadata": {
        "id": "Jxu6kOTP2Wdq",
        "colab_type": "code",
        "colab": {
          "base_uri": "https://localhost:8080/",
          "height": 1000
        },
        "outputId": "abc56452-ae76-469c-cf74-5baae4cc0f1c"
      },
      "source": [
        "# I want a list of columns but there are too many to display without trunication so im going\n",
        "# to change the options to see them\n",
        "pd.set_option('display.max_rows',125)\n",
        "df.dtypes"
      ],
      "execution_count": 22,
      "outputs": [
        {
          "output_type": "execute_result",
          "data": {
            "text/plain": [
              "loan_amnt                                int64\n",
              "funded_amnt                              int64\n",
              "funded_amnt_inv                          int64\n",
              "term                                    object\n",
              "int_rate                                object\n",
              "installment                            float64\n",
              "grade                                   object\n",
              "sub_grade                               object\n",
              "emp_title                               object\n",
              "emp_length                              object\n",
              "home_ownership                          object\n",
              "annual_inc                             float64\n",
              "verification_status                     object\n",
              "issue_d                                 object\n",
              "loan_status                             object\n",
              "pymnt_plan                              object\n",
              "purpose                                 object\n",
              "title                                   object\n",
              "zip_code                                object\n",
              "addr_state                              object\n",
              "dti                                    float64\n",
              "delinq_2yrs                              int64\n",
              "earliest_cr_line                        object\n",
              "inq_last_6mths                           int64\n",
              "mths_since_last_delinq                 float64\n",
              "mths_since_last_record                 float64\n",
              "open_acc                                 int64\n",
              "pub_rec                                  int64\n",
              "revol_bal                                int64\n",
              "revol_util                              object\n",
              "total_acc                                int64\n",
              "initial_list_status                     object\n",
              "out_prncp                              float64\n",
              "out_prncp_inv                          float64\n",
              "total_pymnt                            float64\n",
              "total_pymnt_inv                        float64\n",
              "total_rec_prncp                        float64\n",
              "total_rec_int                          float64\n",
              "total_rec_late_fee                     float64\n",
              "recoveries                             float64\n",
              "collection_recovery_fee                float64\n",
              "last_pymnt_d                            object\n",
              "last_pymnt_amnt                        float64\n",
              "next_pymnt_d                            object\n",
              "last_credit_pull_d                      object\n",
              "collections_12_mths_ex_med               int64\n",
              "mths_since_last_major_derog            float64\n",
              "policy_code                              int64\n",
              "application_type                        object\n",
              "annual_inc_joint                       float64\n",
              "dti_joint                              float64\n",
              "verification_status_joint               object\n",
              "acc_now_delinq                           int64\n",
              "tot_coll_amt                             int64\n",
              "tot_cur_bal                              int64\n",
              "open_acc_6m                              int64\n",
              "open_il_6m                               int64\n",
              "open_il_12m                              int64\n",
              "open_il_24m                              int64\n",
              "mths_since_rcnt_il                     float64\n",
              "total_bal_il                             int64\n",
              "il_util                                float64\n",
              "open_rv_12m                              int64\n",
              "open_rv_24m                              int64\n",
              "max_bal_bc                               int64\n",
              "all_util                               float64\n",
              "total_rev_hi_lim                         int64\n",
              "inq_fi                                   int64\n",
              "total_cu_tl                              int64\n",
              "inq_last_12m                             int64\n",
              "acc_open_past_24mths                     int64\n",
              "avg_cur_bal                              int64\n",
              "bc_open_to_buy                         float64\n",
              "bc_util                                float64\n",
              "chargeoff_within_12_mths                 int64\n",
              "delinq_amnt                              int64\n",
              "mo_sin_old_il_acct                     float64\n",
              "mo_sin_old_rev_tl_op                     int64\n",
              "mo_sin_rcnt_rev_tl_op                    int64\n",
              "mo_sin_rcnt_tl                           int64\n",
              "mort_acc                                 int64\n",
              "mths_since_recent_bc                   float64\n",
              "mths_since_recent_bc_dlq               float64\n",
              "mths_since_recent_inq                  float64\n",
              "mths_since_recent_revol_delinq         float64\n",
              "num_accts_ever_120_pd                    int64\n",
              "num_actv_bc_tl                           int64\n",
              "num_actv_rev_tl                          int64\n",
              "num_bc_sats                              int64\n",
              "num_bc_tl                                int64\n",
              "num_il_tl                                int64\n",
              "num_op_rev_tl                            int64\n",
              "num_rev_accts                            int64\n",
              "num_rev_tl_bal_gt_0                      int64\n",
              "num_sats                                 int64\n",
              "num_tl_120dpd_2m                       float64\n",
              "num_tl_30dpd                             int64\n",
              "num_tl_90g_dpd_24m                       int64\n",
              "num_tl_op_past_12m                       int64\n",
              "pct_tl_nvr_dlq                         float64\n",
              "percent_bc_gt_75                       float64\n",
              "pub_rec_bankruptcies                     int64\n",
              "tax_liens                                int64\n",
              "tot_hi_cred_lim                          int64\n",
              "total_bal_ex_mort                        int64\n",
              "total_bc_limit                           int64\n",
              "total_il_high_credit_limit               int64\n",
              "revol_bal_joint                        float64\n",
              "sec_app_earliest_cr_line                object\n",
              "sec_app_inq_last_6mths                 float64\n",
              "sec_app_mort_acc                       float64\n",
              "sec_app_open_acc                       float64\n",
              "sec_app_revol_util                     float64\n",
              "sec_app_open_il_6m                     float64\n",
              "sec_app_num_rev_accts                  float64\n",
              "sec_app_chargeoff_within_12_mths       float64\n",
              "sec_app_collections_12_mths_ex_med     float64\n",
              "sec_app_mths_since_last_major_derog    float64\n",
              "dtype: object"
            ]
          },
          "metadata": {
            "tags": []
          },
          "execution_count": 22
        }
      ]
    },
    {
      "cell_type": "markdown",
      "metadata": {
        "id": "qtLeQ-vfBDfx",
        "colab_type": "text"
      },
      "source": [
        "## Feature Engineering and More Data Cleaning"
      ]
    },
    {
      "cell_type": "code",
      "metadata": {
        "id": "mN-Ks5QM3MmN",
        "colab_type": "code",
        "colab": {
          "base_uri": "https://localhost:8080/",
          "height": 136
        },
        "outputId": "95104123-e843-4996-d63f-095b1d9089d3"
      },
      "source": [
        "# look at elements in 2 columns with identical stripping rules\n",
        "print(df[['int_rate','revol_util']].iloc[0])\n",
        "\n",
        "# define a funtion to strip theese two columns\n",
        "def strip_percent(inp) ->float:\n",
        "  if isinstance(inp,str):\n",
        "    return float(inp.strip().strip('%'))\n",
        "  else:\n",
        "    pass\n",
        "  return np.NaN\n",
        "\n",
        "#test=[' 17%','12% ',' 0.01%',np.NaN]\n",
        "#for i in test:\n",
        "#  print(f\"DBG:{strip_percent(i)}\")\n"
      ],
      "execution_count": 30,
      "outputs": [
        {
          "output_type": "stream",
          "text": [
            "int_rate        7.49%\n",
            "revol_util      14.9%\n",
            "Name: 0, dtype: object\n",
            "DBG:17.0\n",
            "DBG:12.0\n",
            "DBG:0.01\n",
            "DBG:nan\n"
          ],
          "name": "stdout"
        }
      ]
    },
    {
      "cell_type": "code",
      "metadata": {
        "id": "70wFdFm87HFU",
        "colab_type": "code",
        "colab": {}
      },
      "source": [
        "# add columns to df for float values\n",
        "df['intr_rate_float']=df['int_rate'].apply(strip_percent)\n",
        "df['util_float']=df['revol_util'].apply(strip_percent)"
      ],
      "execution_count": 0,
      "outputs": []
    },
    {
      "cell_type": "code",
      "metadata": {
        "id": "mHFmrTXD7yX3",
        "colab_type": "code",
        "colab": {
          "base_uri": "https://localhost:8080/",
          "height": 359
        },
        "outputId": "e2a97402-6653-49f5-a39a-3182ad49fe10"
      },
      "source": [
        "# make sure the changes presisted\n",
        "df[['intr_rate_float','util_float']].head(10)"
      ],
      "execution_count": 32,
      "outputs": [
        {
          "output_type": "execute_result",
          "data": {
            "text/html": [
              "<div>\n",
              "<style scoped>\n",
              "    .dataframe tbody tr th:only-of-type {\n",
              "        vertical-align: middle;\n",
              "    }\n",
              "\n",
              "    .dataframe tbody tr th {\n",
              "        vertical-align: top;\n",
              "    }\n",
              "\n",
              "    .dataframe thead th {\n",
              "        text-align: right;\n",
              "    }\n",
              "</style>\n",
              "<table border=\"1\" class=\"dataframe\">\n",
              "  <thead>\n",
              "    <tr style=\"text-align: right;\">\n",
              "      <th></th>\n",
              "      <th>intr_rate_float</th>\n",
              "      <th>util_float</th>\n",
              "    </tr>\n",
              "  </thead>\n",
              "  <tbody>\n",
              "    <tr>\n",
              "      <th>0</th>\n",
              "      <td>7.49</td>\n",
              "      <td>14.9</td>\n",
              "    </tr>\n",
              "    <tr>\n",
              "      <th>1</th>\n",
              "      <td>14.99</td>\n",
              "      <td>75.3</td>\n",
              "    </tr>\n",
              "    <tr>\n",
              "      <th>2</th>\n",
              "      <td>11.39</td>\n",
              "      <td>30.3</td>\n",
              "    </tr>\n",
              "    <tr>\n",
              "      <th>3</th>\n",
              "      <td>10.49</td>\n",
              "      <td>33.2</td>\n",
              "    </tr>\n",
              "    <tr>\n",
              "      <th>4</th>\n",
              "      <td>7.24</td>\n",
              "      <td>41.3</td>\n",
              "    </tr>\n",
              "    <tr>\n",
              "      <th>5</th>\n",
              "      <td>15.99</td>\n",
              "      <td>26.0</td>\n",
              "    </tr>\n",
              "    <tr>\n",
              "      <th>6</th>\n",
              "      <td>14.99</td>\n",
              "      <td>90.1</td>\n",
              "    </tr>\n",
              "    <tr>\n",
              "      <th>7</th>\n",
              "      <td>8.24</td>\n",
              "      <td>60.0</td>\n",
              "    </tr>\n",
              "    <tr>\n",
              "      <th>8</th>\n",
              "      <td>7.99</td>\n",
              "      <td>52.1</td>\n",
              "    </tr>\n",
              "    <tr>\n",
              "      <th>9</th>\n",
              "      <td>5.32</td>\n",
              "      <td>34.5</td>\n",
              "    </tr>\n",
              "  </tbody>\n",
              "</table>\n",
              "</div>"
            ],
            "text/plain": [
              "   intr_rate_float  util_float\n",
              "0             7.49        14.9\n",
              "1            14.99        75.3\n",
              "2            11.39        30.3\n",
              "3            10.49        33.2\n",
              "4             7.24        41.3\n",
              "5            15.99        26.0\n",
              "6            14.99        90.1\n",
              "7             8.24        60.0\n",
              "8             7.99        52.1\n",
              "9             5.32        34.5"
            ]
          },
          "metadata": {
            "tags": []
          },
          "execution_count": 32
        }
      ]
    },
    {
      "cell_type": "code",
      "metadata": {
        "id": "ki6i-Qi28br8",
        "colab_type": "code",
        "colab": {}
      },
      "source": [
        "# define a funtion to clean the job feilds\n",
        "def clean_job(inp):\n",
        "  if isinstance(inp, str):\n",
        "    return inp.strip().title()\n",
        "  else:\n",
        "    return \"Unknown\""
      ],
      "execution_count": 0,
      "outputs": []
    },
    {
      "cell_type": "code",
      "metadata": {
        "id": "uyEW-e_r_XFs",
        "colab_type": "code",
        "colab": {
          "base_uri": "https://localhost:8080/",
          "height": 204
        },
        "outputId": "f564f7b2-cb06-4f21-c418-6dae45c59c63"
      },
      "source": [
        "# use the clean_job funtion on the df with the apply function\n",
        "df['emp_title']=df['emp_title'].apply(clean_job)\n",
        "df['emp_title'].head(10)"
      ],
      "execution_count": 34,
      "outputs": [
        {
          "output_type": "execute_result",
          "data": {
            "text/plain": [
              "0    Code/Compliance Inspector\n",
              "1        Senior Superintendent\n",
              "2                      It Tech\n",
              "3             Dental Hygienist\n",
              "4              Program Manager\n",
              "5         Business Development\n",
              "6              Lead Supervisor\n",
              "7     It Lead Business Analyst\n",
              "8              Registerd Nurse\n",
              "9                      Radtech\n",
              "Name: emp_title, dtype: object"
            ]
          },
          "metadata": {
            "tags": []
          },
          "execution_count": 34
        }
      ]
    },
    {
      "cell_type": "code",
      "metadata": {
        "id": "v71iIvuj_nBV",
        "colab_type": "code",
        "colab": {
          "base_uri": "https://localhost:8080/",
          "height": 34
        },
        "outputId": "9deeb4fb-279f-497a-adab-0990ebe07335"
      },
      "source": [
        "# check to make sure there are no NaN's\n",
        "df['emp_title'].isnull().sum()\n"
      ],
      "execution_count": 37,
      "outputs": [
        {
          "output_type": "execute_result",
          "data": {
            "text/plain": [
              "0"
            ]
          },
          "metadata": {
            "tags": []
          },
          "execution_count": 37
        }
      ]
    },
    {
      "cell_type": "markdown",
      "metadata": {
        "id": "dQ57niB9BQ-a",
        "colab_type": "text"
      },
      "source": [
        "## Working with Time\n",
        "\n"
      ]
    },
    {
      "cell_type": "code",
      "metadata": {
        "id": "uoT4ZTKHBbbY",
        "colab_type": "code",
        "colab": {
          "base_uri": "https://localhost:8080/",
          "height": 1000
        },
        "outputId": "593e6dd5-57b8-4dcc-95e0-51909ccb6ea1"
      },
      "source": [
        "# get a list of columns that end with the _d convention for denoting date\n",
        "time_columns=[col for col in df if col.endswith('_d')]\n",
        "# interate throuh all of the columns and gather some information to print\n",
        "for i in time_columns:\n",
        "  print(f\"Column Name:{i}\\nhead:\\n{df[i].head()}\\nValue_counts:\\n{df[i].value_counts(dropna=False)}\\n\\n\")"
      ],
      "execution_count": 55,
      "outputs": [
        {
          "output_type": "stream",
          "text": [
            "Column Name:issue_d\n",
            "head:\n",
            "0   2017-03-01\n",
            "1   2017-03-01\n",
            "2   2017-03-01\n",
            "3   2017-03-01\n",
            "4   2017-03-01\n",
            "Name: issue_d, dtype: datetime64[ns]\n",
            "Value_counts:\n",
            "2017-03-01    37181\n",
            "2017-01-01    31835\n",
            "2017-02-01    27763\n",
            "Name: issue_d, dtype: int64\n",
            "\n",
            "\n",
            "Column Name:last_pymnt_d\n",
            "head:\n",
            "0          NaT\n",
            "1          NaT\n",
            "2          NaT\n",
            "3          NaT\n",
            "4   2017-04-01\n",
            "Name: last_pymnt_d, dtype: datetime64[ns]\n",
            "Value_counts:\n",
            "2017-04-01    54403\n",
            "2017-03-01    24413\n",
            "NaT           17122\n",
            "2017-02-01      645\n",
            "2017-01-01      196\n",
            "Name: last_pymnt_d, dtype: int64\n",
            "\n",
            "\n",
            "Column Name:next_pymnt_d\n",
            "head:\n",
            "0   2017-04-01\n",
            "1   2017-04-01\n",
            "2   2017-04-01\n",
            "3   2017-04-01\n",
            "4   2017-05-01\n",
            "Name: next_pymnt_d, dtype: datetime64[ns]\n",
            "Value_counts:\n",
            "2017-05-01    59014\n",
            "2017-04-01    35513\n",
            "NaT            2251\n",
            "2017-06-01        1\n",
            "Name: next_pymnt_d, dtype: int64\n",
            "\n",
            "\n",
            "Column Name:last_credit_pull_d\n",
            "head:\n",
            "0   2017-04-01\n",
            "1   2017-04-01\n",
            "2   2017-04-01\n",
            "3   2017-04-01\n",
            "4   2017-04-01\n",
            "Name: last_credit_pull_d, dtype: datetime64[ns]\n",
            "Value_counts:\n",
            "2017-04-01    94430\n",
            "2017-03-01     1483\n",
            "2017-02-01      539\n",
            "2017-01-01      285\n",
            "2016-12-01       37\n",
            "NaT               5\n",
            "Name: last_credit_pull_d, dtype: int64\n",
            "\n",
            "\n"
          ],
          "name": "stdout"
        }
      ]
    },
    {
      "cell_type": "code",
      "metadata": {
        "id": "Hfr6snRuDDVp",
        "colab_type": "code",
        "colab": {}
      },
      "source": [
        "# its pretty obvious we are going to have to do some work here so im going to try setting the dates\n",
        "# without chinging any of the nan values if that dose'nt work then i will change them to jan-2001 and then set dates\n",
        "for col in time_columns:\n",
        "  df[col] = pd.to_datetime(df[col], infer_datetime_format=True)\n"
      ],
      "execution_count": 0,
      "outputs": []
    },
    {
      "cell_type": "code",
      "metadata": {
        "id": "2yLmqe8rHJjF",
        "colab_type": "code",
        "colab": {
          "base_uri": "https://localhost:8080/",
          "height": 102
        },
        "outputId": "b67c0030-9ac5-4954-be88-e6f40015e792"
      },
      "source": [
        "# making sure it worked\n",
        "df[time_columns].dtypes"
      ],
      "execution_count": 57,
      "outputs": [
        {
          "output_type": "execute_result",
          "data": {
            "text/plain": [
              "issue_d               datetime64[ns]\n",
              "last_pymnt_d          datetime64[ns]\n",
              "next_pymnt_d          datetime64[ns]\n",
              "last_credit_pull_d    datetime64[ns]\n",
              "dtype: object"
            ]
          },
          "metadata": {
            "tags": []
          },
          "execution_count": 57
        }
      ]
    },
    {
      "cell_type": "code",
      "metadata": {
        "id": "KluJciw1ICg2",
        "colab_type": "code",
        "colab": {}
      },
      "source": [
        "#print(f\"DBG: columns before add {df.shape[1]}\\nDBG: should be {len(time_columns)*2} more when for is done\\n\")\n",
        "\n",
        "# used to display my columns after i add them to the df\n",
        "append_list=[]\n",
        "\n",
        "# for this section im going to take the years and months and put them in their own columns\n",
        "# interate through time columns and make a new year and month column with their\n",
        "# name concated by _year or _month respectivly\n",
        "for col in time_columns:\n",
        "  df[f\"{col}_year\"]=df[col].dt.year\n",
        "  append_list.append(f\"{col}_year\")\n",
        "  df[f\"{col}_month\"]=df[col].dt.month\n",
        "  append_list.append(f\"{col}_month\")\n",
        "\n",
        "#print(f\"DBG: total columns: {df.shape[1]}\")\n"
      ],
      "execution_count": 0,
      "outputs": []
    },
    {
      "cell_type": "code",
      "metadata": {
        "id": "XMHwpurGO5eT",
        "colab_type": "code",
        "colab": {
          "base_uri": "https://localhost:8080/",
          "height": 238
        },
        "outputId": "2379a927-4ce0-4cf3-d45e-e3ad36218c48"
      },
      "source": [
        "# set a temp virable with both of my lists combined\n",
        "temp=time_columns+append_list\n",
        "# print head of my newly made columns and my newly changed time columns\n",
        "print(df[temp].head())\n",
        "# look at the data types to make sure everything looks right\n",
        "df[temp].dtypes"
      ],
      "execution_count": 62,
      "outputs": [
        {
          "output_type": "execute_result",
          "data": {
            "text/plain": [
              "issue_d                     datetime64[ns]\n",
              "last_pymnt_d                datetime64[ns]\n",
              "next_pymnt_d                datetime64[ns]\n",
              "last_credit_pull_d          datetime64[ns]\n",
              "issue_d_year                         int64\n",
              "issue_d_month                        int64\n",
              "last_pymnt_d_year                  float64\n",
              "last_pymnt_d_month                 float64\n",
              "next_pymnt_d_year                  float64\n",
              "next_pymnt_d_month                 float64\n",
              "last_credit_pull_d_year            float64\n",
              "last_credit_pull_d_month           float64\n",
              "dtype: object"
            ]
          },
          "metadata": {
            "tags": []
          },
          "execution_count": 62
        }
      ]
    },
    {
      "cell_type": "markdown",
      "metadata": {
        "colab_type": "text",
        "id": "L8k0LiHmo5EU"
      },
      "source": [
        "# Stretch Goals\n",
        "\n",
        "You can do more with the LendingClub or Instacart datasets.\n",
        "\n",
        "LendingClub options:\n",
        "- There's one other column in the dataframe with percent signs. Remove them and convert to floats. You'll need to handle missing values.\n",
        "- Modify the `emp_title` column to replace titles with 'Other' if the title is not in the top 20. \n",
        "- Take initiatve and work on your own ideas!\n",
        "\n",
        "Instacart options:\n",
        "- Read [Instacart Market Basket Analysis, Winner's Interview: 2nd place, Kazuki Onodera](http://blog.kaggle.com/2017/09/21/instacart-market-basket-analysis-winners-interview-2nd-place-kazuki-onodera/), especially the **Feature Engineering** section. (Can you choose one feature from his bulleted lists, and try to engineer it with pandas code?)\n",
        "- Read and replicate parts of [Simple Exploration Notebook - Instacart](https://www.kaggle.com/sudalairajkumar/simple-exploration-notebook-instacart). (It's the Python Notebook with the most upvotes for this Kaggle competition.)\n",
        "- Take initiative and work on your own ideas!"
      ]
    },
    {
      "cell_type": "markdown",
      "metadata": {
        "colab_type": "text",
        "id": "0_7PXF7lpEXg"
      },
      "source": [
        "You can uncomment and run the cells below to re-download and extract the Instacart data"
      ]
    },
    {
      "cell_type": "code",
      "metadata": {
        "id": "urIePNa0yNG6",
        "colab_type": "code",
        "colab": {}
      },
      "source": [
        "# !wget https://s3.amazonaws.com/instacart-datasets/instacart_online_grocery_shopping_2017_05_01.tar.gz"
      ],
      "execution_count": 0,
      "outputs": []
    },
    {
      "cell_type": "code",
      "metadata": {
        "id": "X9zEyu-uyNG8",
        "colab_type": "code",
        "colab": {}
      },
      "source": [
        "# !tar --gunzip --extract --verbose --file=instacart_online_grocery_shopping_2017_05_01.tar.gz"
      ],
      "execution_count": 0,
      "outputs": []
    },
    {
      "cell_type": "code",
      "metadata": {
        "id": "Y3IqrhlpyNG-",
        "colab_type": "code",
        "colab": {}
      },
      "source": [
        "# %cd instacart_2017_05_01"
      ],
      "execution_count": 0,
      "outputs": []
    }
  ]
}