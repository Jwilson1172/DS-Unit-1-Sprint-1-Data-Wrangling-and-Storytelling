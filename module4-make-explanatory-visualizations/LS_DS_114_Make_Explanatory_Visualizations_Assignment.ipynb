{
  "nbformat": 4,
  "nbformat_minor": 0,
  "metadata": {
    "colab": {
      "name": "LS_DS_114_Make_Explanatory_Visualizations_Assignment.ipynb",
      "provenance": [],
      "collapsed_sections": []
    },
    "language_info": {
      "codemirror_mode": {
        "name": "ipython",
        "version": 3
      },
      "file_extension": ".py",
      "mimetype": "text/x-python",
      "name": "python",
      "nbconvert_exporter": "python",
      "pygments_lexer": "ipython3",
      "version": "3.7.1"
    },
    "kernelspec": {
      "display_name": "Python 3",
      "language": "python",
      "name": "python3"
    }
  },
  "cells": [
    {
      "cell_type": "markdown",
      "metadata": {
        "colab_type": "text",
        "id": "NMEswXWh9mqw"
      },
      "source": [
        "Lambda School Data Science\n",
        "\n",
        "*Unit 1, Sprint 1, Module 4*\n",
        "\n",
        "---\n",
        "\n",
        "# ASSIGNMENT\n",
        "\n",
        "### 1) Replicate the lesson code. I recommend that you [do not copy-paste](https://docs.google.com/document/d/1ubOw9B3Hfip27hF2ZFnW3a3z9xAgrUDRReOEo-FHCVs/edit).\n",
        "\n",
        "Get caught up to where we got our example in class and then try and take things further. How close to \"pixel perfect\" can you make the lecture graph?\n",
        "\n",
        "Once you have something that you're proud of, share your graph in the cohort channel and move on to the second exercise.\n",
        "\n",
        "\n",
        "\n",
        "\n",
        "\n",
        "\n",
        "\n",
        "\n",
        "\n",
        "\n",
        "\n",
        "\n"
      ]
    },
    {
      "cell_type": "code",
      "metadata": {
        "id": "i2HdIFK-SIql",
        "colab_type": "code",
        "colab": {}
      },
      "source": [
        "import matplotlib.pyplot as plt\n",
        "import numpy as np\n",
        "import pandas as pd\n",
        "\n",
        "\n",
        "plt.style.use('fivethirtyeight')\n",
        "\n",
        "fake = pd.Series([38.5, 3, 2, 1, 2, 4, 5, 5, 5, 34], \n",
        "                 index=range(1,11))"
      ],
      "execution_count": 0,
      "outputs": []
    },
    {
      "cell_type": "code",
      "metadata": {
        "id": "S7Y6diWsSrwp",
        "colab_type": "code",
        "colab": {
          "base_uri": "https://localhost:8080/",
          "height": 355
        },
        "outputId": "90a8c81f-48a9-4fd0-b874-d5b4e472fbd2"
      },
      "source": [
        "from IPython.display import display, Image\n",
        "\n",
        "url = 'https://fivethirtyeight.com/wp-content/uploads/2017/09/mehtahickey-inconvenient-0830-1.png'\n",
        "example = Image(url=url, width=400)\n",
        "\n",
        "display(example)"
      ],
      "execution_count": 5,
      "outputs": [
        {
          "output_type": "display_data",
          "data": {
            "text/html": [
              "<img src=\"https://fivethirtyeight.com/wp-content/uploads/2017/09/mehtahickey-inconvenient-0830-1.png\" width=\"400\"/>"
            ],
            "text/plain": [
              "<IPython.core.display.Image object>"
            ]
          },
          "metadata": {
            "tags": []
          }
        }
      ]
    },
    {
      "cell_type": "code",
      "metadata": {
        "id": "r5d3jb_MSikt",
        "colab_type": "code",
        "colab": {
          "base_uri": "https://localhost:8080/",
          "height": 680
        },
        "outputId": "576d7889-e0bf-45c2-e3f0-ca26ab797a71"
      },
      "source": [
        "# set the stylesheet for my graphs\n",
        "plt.style.use('fivethirtyeight')\n",
        "\n",
        "# Create my figure and axes variables\n",
        "fig, ax = plt.subplots()\n",
        "\n",
        "# Plot, color and shape the bars\n",
        "ax.bar(x=[1,2,3,4,5,6,7,8,9,10], height=fake, color='#ED713A', width=0.9)\n",
        "\n",
        "# Figure Background Color\n",
        "fig.set_facecolor(color='None')\n",
        "\n",
        "# Axes Background Color\n",
        "ax.set_facecolor(color='None')\n",
        "\n",
        "# to fix the grid, what I really need to fix\n",
        "# is the \"tick marks\"\n",
        "\n",
        "# set x ticks\n",
        "ax.set_xticks(range(1,11,1))\n",
        "\n",
        "# set y ticks\n",
        "ax.set_yticks(range(0,50,10))\n",
        "\n",
        "# set y tick labels\n",
        "ax.set_yticklabels([0,10,20,30,\"40%\"], fontsize=9, color=\"#AEAEAE\")\n",
        "\n",
        "ax.set_xticklabels(range(1,11,1), fontsize=9, color=\"#AEAEAE\")\n",
        "\n",
        "\n",
        "# remove all spines\n",
        "ax.spines['right'].set_visible(False)\n",
        "ax.spines['top'].set_visible(False)\n",
        "ax.spines['bottom'].set_visible(False)\n",
        "ax.spines['left'].set_visible(False)\n",
        "\n",
        "# x label\n",
        "ax.set_xlabel(\"Rating\", fontsize=10, fontweight='bold')\n",
        "# y label\n",
        "ax.set_ylabel(\"Percent of total votes\", fontsize=10, fontweight='bold')\n",
        "\n",
        "# change the grid alpha and line width\n",
        "ax.grid(alpha=0.5,lw=1.05)\n",
        "\n",
        "# Set Title\n",
        "ax.set_title(\"'An Invconvenient Sequel: Truth To Power' is divisive\", fontsize=13, color='#222222', x=.37, y=1.15, fontweight='bold')\n",
        "\n",
        "# Subtitle (using the text method and not subtitle on purpose)\n",
        "ax.text(s=\"IMDb ratings for the film as of Aug. 29\", y=44, x=-1.5, fontsize=12, color='#222222')\n",
        "\n",
        "# Show the graph, squelch the return output\n",
        "plt.show()\n",
        "display(example)"
      ],
      "execution_count": 20,
      "outputs": [
        {
          "output_type": "display_data",
          "data": {
            "image/png": "[encoded data removed]",
            "text/plain": [
              "<Figure size 432x288 with 1 Axes>"
            ]
          },
          "metadata": {
            "tags": []
          }
        },
        {
          "output_type": "display_data",
          "data": {
            "text/html": [
              "<img src=\"https://fivethirtyeight.com/wp-content/uploads/2017/09/mehtahickey-inconvenient-0830-1.png\" width=\"400\"/>"
            ],
            "text/plain": [
              "<IPython.core.display.Image object>"
            ]
          },
          "metadata": {
            "tags": []
          }
        }
      ]
    },
    {
      "cell_type": "markdown",
      "metadata": {
        "id": "QGZpncs1SAgr",
        "colab_type": "text"
      },
      "source": [
        "### 2) Reproduce another example from [FiveThityEight's shared data repository](https://data.fivethirtyeight.com/).\n",
        "\n",
        "**WARNING**: There are a lot of very custom graphs and tables at the above link. I **highly** recommend not trying to reproduce any that look like a table of values or something really different from the graph types that we are already familiar with. Search through the posts until you find a graph type that you are more or less familiar with: histogram, bar chart, stacked bar chart, line chart, [seaborn relplot](https://seaborn.pydata.org/generated/seaborn.relplot.html), etc. Recreating some of the graphics that 538 uses would be a lot easier in Adobe photoshop/illustrator than with matplotlib. \n",
        "\n",
        "- If you put in some time to find a graph that looks \"easy\" to replicate you'll probably find that it's not as easy as you thought. \n",
        "\n",
        "- If you start with a graph that looks hard to replicate you'll probably run up against a brick wall and be disappointed with your afternoon."
      ]
    },
    {
      "cell_type": "code",
      "metadata": {
        "id": "7SY1ZHawyZvz",
        "colab_type": "code",
        "colab": {
          "base_uri": "https://localhost:8080/",
          "height": 637
        },
        "outputId": "fe2dd4c9-2733-4d2d-f10c-b08c96dff533"
      },
      "source": [
        "# IT'S FREAKING BOB ROSS, TIME TO HAVE HAPPY LITTLE ACCIDENTS\n",
        "# it's also suprisingly hard to find good writeups for simple graphs\n",
        "from IPython.display import display, Image\n",
        "\n",
        "# 5:38 writeup: https://fivethirtyeight.com/features/a-statistical-analysis-of-the-work-of-bob-ross/\n",
        "\n",
        "url = 'https://fivethirtyeight.com/wp-content/uploads/2014/04/hickey-ross-tags-1.png'\n",
        "example = Image(url=url, width=400)\n",
        "\n",
        "display(example)"
      ],
      "execution_count": 21,
      "outputs": [
        {
          "output_type": "display_data",
          "data": {
            "text/html": [
              "<img src=\"https://fivethirtyeight.com/wp-content/uploads/2014/04/hickey-ross-tags-1.png\" width=\"400\"/>"
            ],
            "text/plain": [
              "<IPython.core.display.Image object>"
            ]
          },
          "metadata": {
            "tags": []
          }
        }
      ]
    },
    {
      "cell_type": "code",
      "metadata": {
        "id": "gKmNomLjdFAO",
        "colab_type": "code",
        "colab": {
          "base_uri": "https://localhost:8080/",
          "height": 34
        },
        "outputId": "c1210bb0-ceed-4a7a-f6df-c2ed932e74ea"
      },
      "source": [
        "# load data\n",
        "df=pd.read_csv('elements-by-episode.csv')\n",
        "df=df.drop(['EPISODE','TITLE'],axis=1)\n",
        "df.shape"
      ],
      "execution_count": 143,
      "outputs": [
        {
          "output_type": "execute_result",
          "data": {
            "text/plain": [
              "(403, 67)"
            ]
          },
          "metadata": {
            "tags": []
          },
          "execution_count": 143
        }
      ]
    },
    {
      "cell_type": "code",
      "metadata": {
        "id": "skxzW0ojBuNA",
        "colab_type": "code",
        "colab": {}
      },
      "source": [
        "# make a filterdf to graph out of\n",
        "df_filter=df\n",
        "# keep originaldf to normilize out of\n",
        "\n",
        "#interate over each column and if it hits less then 5 times drop if from the graph\n",
        "for col in df.columns:\n",
        "  if df[col].sum() <=5:\n",
        "    df_filter.drop(col,axis=1,inplace=True)\n",
        "\n",
        "# should return a series of the sum of all columns that were not filtered out\n",
        "# this is the data and column names that im going to be graphing\n",
        "graph_data=df_filter.sum()"
      ],
      "execution_count": 0,
      "outputs": []
    },
    {
      "cell_type": "code",
      "metadata": {
        "id": "arQynIoxW99l",
        "colab_type": "code",
        "colab": {
          "base_uri": "https://localhost:8080/",
          "height": 210
        },
        "outputId": "a5f0cd6b-aadd-43b0-fc8f-4127609b6429"
      },
      "source": [
        "# error checking\n",
        "print(df_filter.shape)\n",
        "df_filter.iloc[[50,151,33,367]]\n",
        "\n",
        "# thats good i reduced my column count by almost half"
      ],
      "execution_count": 145,
      "outputs": [
        {
          "output_type": "stream",
          "text": [
            "(403, 38)\n"
          ],
          "name": "stdout"
        },
        {
          "output_type": "execute_result",
          "data": {
            "text/html": [
              "<div>\n",
              "<style scoped>\n",
              "    .dataframe tbody tr th:only-of-type {\n",
              "        vertical-align: middle;\n",
              "    }\n",
              "\n",
              "    .dataframe tbody tr th {\n",
              "        vertical-align: top;\n",
              "    }\n",
              "\n",
              "    .dataframe thead th {\n",
              "        text-align: right;\n",
              "    }\n",
              "</style>\n",
              "<table border=\"1\" class=\"dataframe\">\n",
              "  <thead>\n",
              "    <tr style=\"text-align: right;\">\n",
              "      <th></th>\n",
              "      <th>BARN</th>\n",
              "      <th>BEACH</th>\n",
              "      <th>BRIDGE</th>\n",
              "      <th>BUSHES</th>\n",
              "      <th>CABIN</th>\n",
              "      <th>CIRRUS</th>\n",
              "      <th>CLIFF</th>\n",
              "      <th>CLOUDS</th>\n",
              "      <th>CONIFER</th>\n",
              "      <th>CUMULUS</th>\n",
              "      <th>DECIDUOUS</th>\n",
              "      <th>FENCE</th>\n",
              "      <th>FLOWERS</th>\n",
              "      <th>FOG</th>\n",
              "      <th>FRAMED</th>\n",
              "      <th>GRASS</th>\n",
              "      <th>GUEST</th>\n",
              "      <th>HILLS</th>\n",
              "      <th>LAKE</th>\n",
              "      <th>MOUNTAIN</th>\n",
              "      <th>MOUNTAINS</th>\n",
              "      <th>NIGHT</th>\n",
              "      <th>OCEAN</th>\n",
              "      <th>OVAL_FRAME</th>\n",
              "      <th>PALM_TREES</th>\n",
              "      <th>PATH</th>\n",
              "      <th>RIVER</th>\n",
              "      <th>ROCKS</th>\n",
              "      <th>SNOW</th>\n",
              "      <th>SNOWY_MOUNTAIN</th>\n",
              "      <th>STEVE_ROSS</th>\n",
              "      <th>STRUCTURE</th>\n",
              "      <th>SUN</th>\n",
              "      <th>TREE</th>\n",
              "      <th>TREES</th>\n",
              "      <th>WATERFALL</th>\n",
              "      <th>WAVES</th>\n",
              "      <th>WINTER</th>\n",
              "    </tr>\n",
              "  </thead>\n",
              "  <tbody>\n",
              "    <tr>\n",
              "      <th>50</th>\n",
              "      <td>0</td>\n",
              "      <td>0</td>\n",
              "      <td>0</td>\n",
              "      <td>0</td>\n",
              "      <td>0</td>\n",
              "      <td>0</td>\n",
              "      <td>0</td>\n",
              "      <td>0</td>\n",
              "      <td>0</td>\n",
              "      <td>0</td>\n",
              "      <td>1</td>\n",
              "      <td>0</td>\n",
              "      <td>0</td>\n",
              "      <td>0</td>\n",
              "      <td>0</td>\n",
              "      <td>1</td>\n",
              "      <td>0</td>\n",
              "      <td>1</td>\n",
              "      <td>1</td>\n",
              "      <td>0</td>\n",
              "      <td>0</td>\n",
              "      <td>0</td>\n",
              "      <td>0</td>\n",
              "      <td>0</td>\n",
              "      <td>0</td>\n",
              "      <td>0</td>\n",
              "      <td>0</td>\n",
              "      <td>0</td>\n",
              "      <td>0</td>\n",
              "      <td>0</td>\n",
              "      <td>0</td>\n",
              "      <td>0</td>\n",
              "      <td>0</td>\n",
              "      <td>1</td>\n",
              "      <td>1</td>\n",
              "      <td>0</td>\n",
              "      <td>0</td>\n",
              "      <td>0</td>\n",
              "    </tr>\n",
              "    <tr>\n",
              "      <th>151</th>\n",
              "      <td>0</td>\n",
              "      <td>1</td>\n",
              "      <td>0</td>\n",
              "      <td>0</td>\n",
              "      <td>0</td>\n",
              "      <td>1</td>\n",
              "      <td>0</td>\n",
              "      <td>1</td>\n",
              "      <td>0</td>\n",
              "      <td>0</td>\n",
              "      <td>0</td>\n",
              "      <td>0</td>\n",
              "      <td>0</td>\n",
              "      <td>0</td>\n",
              "      <td>0</td>\n",
              "      <td>0</td>\n",
              "      <td>0</td>\n",
              "      <td>0</td>\n",
              "      <td>0</td>\n",
              "      <td>0</td>\n",
              "      <td>0</td>\n",
              "      <td>0</td>\n",
              "      <td>1</td>\n",
              "      <td>0</td>\n",
              "      <td>1</td>\n",
              "      <td>0</td>\n",
              "      <td>0</td>\n",
              "      <td>0</td>\n",
              "      <td>0</td>\n",
              "      <td>0</td>\n",
              "      <td>0</td>\n",
              "      <td>0</td>\n",
              "      <td>0</td>\n",
              "      <td>0</td>\n",
              "      <td>0</td>\n",
              "      <td>0</td>\n",
              "      <td>1</td>\n",
              "      <td>0</td>\n",
              "    </tr>\n",
              "    <tr>\n",
              "      <th>33</th>\n",
              "      <td>0</td>\n",
              "      <td>0</td>\n",
              "      <td>0</td>\n",
              "      <td>0</td>\n",
              "      <td>0</td>\n",
              "      <td>0</td>\n",
              "      <td>1</td>\n",
              "      <td>1</td>\n",
              "      <td>0</td>\n",
              "      <td>1</td>\n",
              "      <td>0</td>\n",
              "      <td>0</td>\n",
              "      <td>0</td>\n",
              "      <td>0</td>\n",
              "      <td>0</td>\n",
              "      <td>0</td>\n",
              "      <td>0</td>\n",
              "      <td>0</td>\n",
              "      <td>0</td>\n",
              "      <td>0</td>\n",
              "      <td>0</td>\n",
              "      <td>1</td>\n",
              "      <td>1</td>\n",
              "      <td>0</td>\n",
              "      <td>0</td>\n",
              "      <td>0</td>\n",
              "      <td>0</td>\n",
              "      <td>0</td>\n",
              "      <td>0</td>\n",
              "      <td>0</td>\n",
              "      <td>0</td>\n",
              "      <td>1</td>\n",
              "      <td>0</td>\n",
              "      <td>0</td>\n",
              "      <td>0</td>\n",
              "      <td>0</td>\n",
              "      <td>1</td>\n",
              "      <td>0</td>\n",
              "    </tr>\n",
              "    <tr>\n",
              "      <th>367</th>\n",
              "      <td>0</td>\n",
              "      <td>0</td>\n",
              "      <td>0</td>\n",
              "      <td>0</td>\n",
              "      <td>0</td>\n",
              "      <td>0</td>\n",
              "      <td>0</td>\n",
              "      <td>0</td>\n",
              "      <td>0</td>\n",
              "      <td>0</td>\n",
              "      <td>1</td>\n",
              "      <td>0</td>\n",
              "      <td>0</td>\n",
              "      <td>0</td>\n",
              "      <td>0</td>\n",
              "      <td>1</td>\n",
              "      <td>0</td>\n",
              "      <td>0</td>\n",
              "      <td>0</td>\n",
              "      <td>1</td>\n",
              "      <td>1</td>\n",
              "      <td>0</td>\n",
              "      <td>0</td>\n",
              "      <td>0</td>\n",
              "      <td>0</td>\n",
              "      <td>1</td>\n",
              "      <td>0</td>\n",
              "      <td>0</td>\n",
              "      <td>0</td>\n",
              "      <td>0</td>\n",
              "      <td>0</td>\n",
              "      <td>0</td>\n",
              "      <td>1</td>\n",
              "      <td>1</td>\n",
              "      <td>1</td>\n",
              "      <td>0</td>\n",
              "      <td>0</td>\n",
              "      <td>0</td>\n",
              "    </tr>\n",
              "  </tbody>\n",
              "</table>\n",
              "</div>"
            ],
            "text/plain": [
              "     BARN  BEACH  BRIDGE  BUSHES  CABIN  ...  TREE  TREES  WATERFALL  WAVES  WINTER\n",
              "50      0      0       0       0      0  ...     1      1          0      0       0\n",
              "151     0      1       0       0      0  ...     0      0          0      1       0\n",
              "33      0      0       0       0      0  ...     0      0          0      1       0\n",
              "367     0      0       0       0      0  ...     1      1          0      0       0\n",
              "\n",
              "[4 rows x 38 columns]"
            ]
          },
          "metadata": {
            "tags": []
          },
          "execution_count": 145
        }
      ]
    },
    {
      "cell_type": "code",
      "metadata": {
        "id": "Sg4bpTVHdkL3",
        "colab_type": "code",
        "colab": {
          "base_uri": "https://localhost:8080/",
          "height": 680
        },
        "outputId": "77cc5fb9-0cec-418d-ad7e-34330549b256"
      },
      "source": [
        "# make a series with the sorted sum data to be used to normalize\n",
        "sum_s=df.sum().sort_values(ascending=False)\n",
        "\n",
        "############################################################\n",
        "# this right here is one of the things that had me caught up\n",
        "def normalize(x):\n",
        "  return (x-sum_s.min())/(sum_s.max()-sum_s.min())\n",
        "############################################################\n",
        "\n",
        "final=graph_data.apply(normalize).sort_values(ascending=True)*100\n",
        "final"
      ],
      "execution_count": 148,
      "outputs": [
        {
          "output_type": "execute_result",
          "data": {
            "text/plain": [
              "BRIDGE              0.000000\n",
              "CLIFF               0.282486\n",
              "PALM_TREES          0.564972\n",
              "STEVE_ROSS          1.129944\n",
              "NIGHT               1.129944\n",
              "FLOWERS             1.412429\n",
              "BARN                2.824859\n",
              "HILLS               3.107345\n",
              "GUEST               4.237288\n",
              "FOG                 4.519774\n",
              "FENCE               4.802260\n",
              "BEACH               5.649718\n",
              "CIRRUS              5.932203\n",
              "WAVES               7.627119\n",
              "OCEAN               8.192090\n",
              "OVAL_FRAME          8.757062\n",
              "WATERFALL           9.039548\n",
              "SUN                 9.322034\n",
              "PATH               11.864407\n",
              "FRAMED             12.994350\n",
              "WINTER             17.514124\n",
              "CABIN              17.514124\n",
              "SNOW               19.209040\n",
              "ROCKS              19.774011\n",
              "STRUCTURE          22.033898\n",
              "CUMULUS            22.316384\n",
              "MOUNTAINS          25.988701\n",
              "SNOWY_MOUNTAIN     28.813559\n",
              "BUSHES             31.920904\n",
              "RIVER              33.615819\n",
              "GRASS              38.135593\n",
              "LAKE               38.418079\n",
              "MOUNTAIN           43.220339\n",
              "CLOUDS             48.587571\n",
              "CONIFER            57.909605\n",
              "DECIDUOUS          62.146893\n",
              "TREES              93.220339\n",
              "TREE              100.000000\n",
              "dtype: float64"
            ]
          },
          "metadata": {
            "tags": []
          },
          "execution_count": 148
        }
      ]
    },
    {
      "cell_type": "code",
      "metadata": {
        "id": "Gq-SDBy8eSQH",
        "colab_type": "code",
        "colab": {
          "base_uri": "https://localhost:8080/",
          "height": 637
        },
        "outputId": "d92c1ade-121f-4565-862c-7d7de184e902"
      },
      "source": [
        "# quick and dirty to see what the data looks like on some bars\n",
        "#final.plot(kind='barh')\n",
        "display(example)"
      ],
      "execution_count": 157,
      "outputs": [
        {
          "output_type": "display_data",
          "data": {
            "text/html": [
              "<img src=\"https://fivethirtyeight.com/wp-content/uploads/2014/04/hickey-ross-tags-1.png\" width=\"400\"/>"
            ],
            "text/plain": [
              "<IPython.core.display.Image object>"
            ]
          },
          "metadata": {
            "tags": []
          }
        }
      ]
    },
    {
      "cell_type": "code",
      "metadata": {
        "id": "ktUo9AEUn8xb",
        "colab_type": "code",
        "colab": {
          "base_uri": "https://localhost:8080/",
          "height": 632
        },
        "outputId": "70c8b345-3a4f-48e6-aa6b-ddf174f93760"
      },
      "source": [
        "plt.rcParams['figure.figsize']=[4.5,10]\n",
        "plt.rcParams['ytick.labelsize']=10\n",
        "fig,ax=plt.subplots()\n",
        "ax.barh(final.index,final,height=0.8,color='#008FD5')\n",
        "ax.grid(alpha=0)\n",
        "plt.show()"
      ],
      "execution_count": 176,
      "outputs": [
        {
          "output_type": "display_data",
          "data": {
            "image/png": "[encoded data removed]",
            "text/plain": [
              "<Figure size 324x720 with 1 Axes>"
            ]
          },
          "metadata": {
            "tags": []
          }
        }
      ]
    },
    {
      "cell_type": "markdown",
      "metadata": {
        "id": "0wSrBzmJyWaV",
        "colab_type": "text"
      },
      "source": [
        "# STRETCH OPTIONS\n",
        "\n",
        "### 1) Reproduce one of the following using the matplotlib or seaborn libraries:\n",
        "\n",
        "- [thanksgiving-2015](https://fivethirtyeight.com/features/heres-what-your-part-of-america-eats-on-thanksgiving/) \n",
        "- [candy-power-ranking](https://fivethirtyeight.com/features/the-ultimate-halloween-candy-power-ranking/) \n",
        "- or another example of your choice!\n",
        "\n",
        "### 2) Make more charts!\n",
        "\n",
        "Choose a chart you want to make, from [Visual Vocabulary - Vega Edition](http://ft.com/vocabulary).\n",
        "\n",
        "Find the chart in an example gallery of a Python data visualization library:\n",
        "- [Seaborn](http://seaborn.pydata.org/examples/index.html)\n",
        "- [Altair](https://altair-viz.github.io/gallery/index.html)\n",
        "- [Matplotlib](https://matplotlib.org/gallery.html)\n",
        "- [Pandas](https://pandas.pydata.org/pandas-docs/stable/visualization.html)\n",
        "\n",
        "Reproduce the chart. [Optionally, try the \"Ben Franklin Method.\"](https://docs.google.com/document/d/1ubOw9B3Hfip27hF2ZFnW3a3z9xAgrUDRReOEo-FHCVs/edit) If you want, experiment and make changes.\n",
        "\n",
        "Take notes. Consider sharing your work with your cohort!"
      ]
    },
    {
      "cell_type": "code",
      "metadata": {
        "id": "dRJkKftiy5BJ",
        "colab_type": "code",
        "colab": {}
      },
      "source": [
        "# More Work Here"
      ],
      "execution_count": 0,
      "outputs": []
    }
  ]
}